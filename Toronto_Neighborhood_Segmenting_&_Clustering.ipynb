{
  "nbformat": 4,
  "nbformat_minor": 5,
  "metadata": {
    "kernelspec": {
      "display_name": "Python 3.7",
      "language": "python",
      "name": "python3"
    },
    "language_info": {
      "codemirror_mode": {
        "name": "ipython",
        "version": 3
      },
      "file_extension": ".py",
      "mimetype": "text/x-python",
      "name": "python",
      "nbconvert_exporter": "python",
      "pygments_lexer": "ipython3",
      "version": "3.7.10"
    },
    "colab": {
      "name": "Toronto Neighborhood - Segmenting & Clustering.ipynb",
      "provenance": [],
      "include_colab_link": true
    }
  },
  "cells": [
    {
      "cell_type": "markdown",
      "metadata": {
        "id": "view-in-github",
        "colab_type": "text"
      },
      "source": [
        "<a href=\"https://colab.research.google.com/github/EdwinRoosevelt/Coursera_Capstone/blob/main/Toronto_Neighborhood_Segmenting_%26_Clustering.ipynb\" target=\"_parent\"><img src=\"https://colab.research.google.com/assets/colab-badge.svg\" alt=\"Open In Colab\"/></a>"
      ]
    },
    {
      "cell_type": "markdown",
      "metadata": {
        "id": "c7d1bf2e-9364-4b99-9123-a21f16ca341c"
      },
      "source": [
        "# Toronto Neighborhood - Segmenting & Clustering"
      ],
      "id": "c7d1bf2e-9364-4b99-9123-a21f16ca341c"
    },
    {
      "cell_type": "markdown",
      "metadata": {
        "id": "8eed12e2-409c-4482-b80a-b8b2a50df924"
      },
      "source": [
        "## Part 01 - Scapping Data from wikipedia page"
      ],
      "id": "8eed12e2-409c-4482-b80a-b8b2a50df924"
    },
    {
      "cell_type": "code",
      "metadata": {
        "colab": {
          "base_uri": "https://localhost:8080/"
        },
        "id": "cacba4d1-9f83-4b6b-95dd-93cefb62bc25",
        "outputId": "649dc5c8-332f-4654-8a5b-520a877ddd9c"
      },
      "source": [
        "! pip install bs4\n",
        "! pip install branca==0.3.1 \n",
        "\n",
        "import requests\n",
        "from bs4 import BeautifulSoup"
      ],
      "id": "cacba4d1-9f83-4b6b-95dd-93cefb62bc25",
      "execution_count": 2,
      "outputs": [
        {
          "output_type": "stream",
          "text": [
            "Requirement already satisfied: bs4 in /usr/local/lib/python3.7/dist-packages (0.0.1)\n",
            "Requirement already satisfied: beautifulsoup4 in /usr/local/lib/python3.7/dist-packages (from bs4) (4.6.3)\n",
            "Requirement already satisfied: branca==0.3.1 in /usr/local/lib/python3.7/dist-packages (0.3.1)\n",
            "Requirement already satisfied: jinja2 in /usr/local/lib/python3.7/dist-packages (from branca==0.3.1) (2.11.3)\n",
            "Requirement already satisfied: six in /usr/local/lib/python3.7/dist-packages (from branca==0.3.1) (1.15.0)\n",
            "Requirement already satisfied: MarkupSafe>=0.23 in /usr/local/lib/python3.7/dist-packages (from jinja2->branca==0.3.1) (2.0.1)\n"
          ],
          "name": "stdout"
        }
      ]
    },
    {
      "cell_type": "code",
      "metadata": {
        "id": "c75698dc-868f-4b21-a080-9e9cb74adaab"
      },
      "source": [
        "url = \"https://en.wikipedia.org/wiki/List_of_postal_codes_of_Canada:_M\"\n",
        "data = requests.get(url).text\n",
        "\n",
        "soup = BeautifulSoup(data,'html.parser')"
      ],
      "id": "c75698dc-868f-4b21-a080-9e9cb74adaab",
      "execution_count": 3,
      "outputs": []
    },
    {
      "cell_type": "code",
      "metadata": {
        "id": "68eed297-9838-4294-a391-85d710a082b0"
      },
      "source": [
        "dataTable = list()\n",
        "table = soup.find('table')\n",
        "for row in table.findAll('td'):\n",
        "    if row.span.text == 'Not assigned':\n",
        "        pass\n",
        "    else:\n",
        "        cell = {}\n",
        "        cell['PostCode'] = row.p.text[:3]\n",
        "        cell['Borough'] = row.span.text.split('(')[0]\n",
        "        cell['Neighborhood'] = row.span.text.split('(')[1].strip(')').replace(' /',',')\n",
        "        dataTable.append(cell)\n"
      ],
      "id": "68eed297-9838-4294-a391-85d710a082b0",
      "execution_count": 4,
      "outputs": []
    },
    {
      "cell_type": "code",
      "metadata": {
        "colab": {
          "base_uri": "https://localhost:8080/",
          "height": 419
        },
        "id": "ea7adb9d-73b8-49ab-9b74-9c336eeefad5",
        "outputId": "014bc4d4-a395-4625-8fa2-9c3971603d4e"
      },
      "source": [
        "import pandas as pd\n",
        "\n",
        "df = pd.DataFrame(dataTable)\n",
        "df['Borough']=df['Borough'].replace({'Downtown TorontoStn A PO Boxes25 The Esplanade':'Downtown Toronto Stn A',\n",
        "                                             'East TorontoBusiness reply mail Processing Centre969 Eastern':'East Toronto Business',\n",
        "                                             'EtobicokeNorthwest':'Etobicoke Northwest','East YorkEast Toronto':'East York/East Toronto',\n",
        "                                             'MississaugaCanada Post Gateway Processing Centre':'Mississauga'})\n",
        "df"
      ],
      "id": "ea7adb9d-73b8-49ab-9b74-9c336eeefad5",
      "execution_count": 5,
      "outputs": [
        {
          "output_type": "execute_result",
          "data": {
            "text/html": [
              "<div>\n",
              "<style scoped>\n",
              "    .dataframe tbody tr th:only-of-type {\n",
              "        vertical-align: middle;\n",
              "    }\n",
              "\n",
              "    .dataframe tbody tr th {\n",
              "        vertical-align: top;\n",
              "    }\n",
              "\n",
              "    .dataframe thead th {\n",
              "        text-align: right;\n",
              "    }\n",
              "</style>\n",
              "<table border=\"1\" class=\"dataframe\">\n",
              "  <thead>\n",
              "    <tr style=\"text-align: right;\">\n",
              "      <th></th>\n",
              "      <th>PostCode</th>\n",
              "      <th>Borough</th>\n",
              "      <th>Neighborhood</th>\n",
              "    </tr>\n",
              "  </thead>\n",
              "  <tbody>\n",
              "    <tr>\n",
              "      <th>0</th>\n",
              "      <td>M3A</td>\n",
              "      <td>North York</td>\n",
              "      <td>Parkwoods</td>\n",
              "    </tr>\n",
              "    <tr>\n",
              "      <th>1</th>\n",
              "      <td>M4A</td>\n",
              "      <td>North York</td>\n",
              "      <td>Victoria Village</td>\n",
              "    </tr>\n",
              "    <tr>\n",
              "      <th>2</th>\n",
              "      <td>M5A</td>\n",
              "      <td>Downtown Toronto</td>\n",
              "      <td>Regent Park, Harbourfront</td>\n",
              "    </tr>\n",
              "    <tr>\n",
              "      <th>3</th>\n",
              "      <td>M6A</td>\n",
              "      <td>North York</td>\n",
              "      <td>Lawrence Manor, Lawrence Heights</td>\n",
              "    </tr>\n",
              "    <tr>\n",
              "      <th>4</th>\n",
              "      <td>M7A</td>\n",
              "      <td>Queen's Park</td>\n",
              "      <td>Ontario Provincial Government</td>\n",
              "    </tr>\n",
              "    <tr>\n",
              "      <th>...</th>\n",
              "      <td>...</td>\n",
              "      <td>...</td>\n",
              "      <td>...</td>\n",
              "    </tr>\n",
              "    <tr>\n",
              "      <th>98</th>\n",
              "      <td>M8X</td>\n",
              "      <td>Etobicoke</td>\n",
              "      <td>The Kingsway, Montgomery Road, Old Mill North</td>\n",
              "    </tr>\n",
              "    <tr>\n",
              "      <th>99</th>\n",
              "      <td>M4Y</td>\n",
              "      <td>Downtown Toronto</td>\n",
              "      <td>Church and Wellesley</td>\n",
              "    </tr>\n",
              "    <tr>\n",
              "      <th>100</th>\n",
              "      <td>M7Y</td>\n",
              "      <td>East Toronto Business</td>\n",
              "      <td>Enclave of M4L</td>\n",
              "    </tr>\n",
              "    <tr>\n",
              "      <th>101</th>\n",
              "      <td>M8Y</td>\n",
              "      <td>Etobicoke</td>\n",
              "      <td>Old Mill South, King's Mill Park, Sunnylea, Hu...</td>\n",
              "    </tr>\n",
              "    <tr>\n",
              "      <th>102</th>\n",
              "      <td>M8Z</td>\n",
              "      <td>Etobicoke</td>\n",
              "      <td>Mimico NW, The Queensway West, South of Bloor,...</td>\n",
              "    </tr>\n",
              "  </tbody>\n",
              "</table>\n",
              "<p>103 rows × 3 columns</p>\n",
              "</div>"
            ],
            "text/plain": [
              "    PostCode  ...                                       Neighborhood\n",
              "0        M3A  ...                                          Parkwoods\n",
              "1        M4A  ...                                   Victoria Village\n",
              "2        M5A  ...                          Regent Park, Harbourfront\n",
              "3        M6A  ...                   Lawrence Manor, Lawrence Heights\n",
              "4        M7A  ...                      Ontario Provincial Government\n",
              "..       ...  ...                                                ...\n",
              "98       M8X  ...      The Kingsway, Montgomery Road, Old Mill North\n",
              "99       M4Y  ...                               Church and Wellesley\n",
              "100      M7Y  ...                                     Enclave of M4L\n",
              "101      M8Y  ...  Old Mill South, King's Mill Park, Sunnylea, Hu...\n",
              "102      M8Z  ...  Mimico NW, The Queensway West, South of Bloor,...\n",
              "\n",
              "[103 rows x 3 columns]"
            ]
          },
          "metadata": {
            "tags": []
          },
          "execution_count": 5
        }
      ]
    },
    {
      "cell_type": "code",
      "metadata": {
        "colab": {
          "base_uri": "https://localhost:8080/"
        },
        "id": "167e8878-1d74-4544-abd4-00f5de76a635",
        "outputId": "22ee7335-5502-48c3-d41d-68f194e1ca7b"
      },
      "source": [
        "df['Neighborhood'].shape"
      ],
      "id": "167e8878-1d74-4544-abd4-00f5de76a635",
      "execution_count": 6,
      "outputs": [
        {
          "output_type": "execute_result",
          "data": {
            "text/plain": [
              "(103,)"
            ]
          },
          "metadata": {
            "tags": []
          },
          "execution_count": 6
        }
      ]
    },
    {
      "cell_type": "markdown",
      "metadata": {
        "id": "6ecc4b04-bc3b-4e43-b69c-b7989e48b374"
      },
      "source": [
        "## Part 02 - Extracting Coordinates for the Boroughs"
      ],
      "id": "6ecc4b04-bc3b-4e43-b69c-b7989e48b374"
    },
    {
      "cell_type": "code",
      "metadata": {
        "colab": {
          "base_uri": "https://localhost:8080/",
          "height": 204
        },
        "id": "67b8ad1e-a8a3-429b-89eb-68c5114f1685",
        "outputId": "92c69103-108d-41a9-fd18-9c43a1ee2459"
      },
      "source": [
        "dfCoordinates = pd.read_csv(\"https://cf-courses-data.s3.us.cloud-object-storage.appdomain.cloud/IBMDeveloperSkillsNetwork-DS0701EN-SkillsNetwork/labs_v1/Geospatial_Coordinates.csv\")\n",
        "dfCoordinates.rename(columns={'Postal Code':'PostCode'}, inplace=True)\n",
        "df = pd.merge(df,dfCoordinates,on='PostCode')\n",
        "df.head()"
      ],
      "id": "67b8ad1e-a8a3-429b-89eb-68c5114f1685",
      "execution_count": 7,
      "outputs": [
        {
          "output_type": "execute_result",
          "data": {
            "text/html": [
              "<div>\n",
              "<style scoped>\n",
              "    .dataframe tbody tr th:only-of-type {\n",
              "        vertical-align: middle;\n",
              "    }\n",
              "\n",
              "    .dataframe tbody tr th {\n",
              "        vertical-align: top;\n",
              "    }\n",
              "\n",
              "    .dataframe thead th {\n",
              "        text-align: right;\n",
              "    }\n",
              "</style>\n",
              "<table border=\"1\" class=\"dataframe\">\n",
              "  <thead>\n",
              "    <tr style=\"text-align: right;\">\n",
              "      <th></th>\n",
              "      <th>PostCode</th>\n",
              "      <th>Borough</th>\n",
              "      <th>Neighborhood</th>\n",
              "      <th>Latitude</th>\n",
              "      <th>Longitude</th>\n",
              "    </tr>\n",
              "  </thead>\n",
              "  <tbody>\n",
              "    <tr>\n",
              "      <th>0</th>\n",
              "      <td>M3A</td>\n",
              "      <td>North York</td>\n",
              "      <td>Parkwoods</td>\n",
              "      <td>43.753259</td>\n",
              "      <td>-79.329656</td>\n",
              "    </tr>\n",
              "    <tr>\n",
              "      <th>1</th>\n",
              "      <td>M4A</td>\n",
              "      <td>North York</td>\n",
              "      <td>Victoria Village</td>\n",
              "      <td>43.725882</td>\n",
              "      <td>-79.315572</td>\n",
              "    </tr>\n",
              "    <tr>\n",
              "      <th>2</th>\n",
              "      <td>M5A</td>\n",
              "      <td>Downtown Toronto</td>\n",
              "      <td>Regent Park, Harbourfront</td>\n",
              "      <td>43.654260</td>\n",
              "      <td>-79.360636</td>\n",
              "    </tr>\n",
              "    <tr>\n",
              "      <th>3</th>\n",
              "      <td>M6A</td>\n",
              "      <td>North York</td>\n",
              "      <td>Lawrence Manor, Lawrence Heights</td>\n",
              "      <td>43.718518</td>\n",
              "      <td>-79.464763</td>\n",
              "    </tr>\n",
              "    <tr>\n",
              "      <th>4</th>\n",
              "      <td>M7A</td>\n",
              "      <td>Queen's Park</td>\n",
              "      <td>Ontario Provincial Government</td>\n",
              "      <td>43.662301</td>\n",
              "      <td>-79.389494</td>\n",
              "    </tr>\n",
              "  </tbody>\n",
              "</table>\n",
              "</div>"
            ],
            "text/plain": [
              "  PostCode           Borough  ...   Latitude  Longitude\n",
              "0      M3A        North York  ...  43.753259 -79.329656\n",
              "1      M4A        North York  ...  43.725882 -79.315572\n",
              "2      M5A  Downtown Toronto  ...  43.654260 -79.360636\n",
              "3      M6A        North York  ...  43.718518 -79.464763\n",
              "4      M7A      Queen's Park  ...  43.662301 -79.389494\n",
              "\n",
              "[5 rows x 5 columns]"
            ]
          },
          "metadata": {
            "tags": []
          },
          "execution_count": 7
        }
      ]
    },
    {
      "cell_type": "markdown",
      "metadata": {
        "id": "641295b2-871f-449f-a075-67b3d042849c"
      },
      "source": [
        "## Part 03 - Clustering Neighborhood"
      ],
      "id": "641295b2-871f-449f-a075-67b3d042849c"
    },
    {
      "cell_type": "code",
      "metadata": {
        "colab": {
          "base_uri": "https://localhost:8080/",
          "height": 204
        },
        "id": "2892914e-8883-4519-b495-f23f32b6d289",
        "outputId": "c3a1ac6f-27b0-4818-de88-a51662ce279f"
      },
      "source": [
        "df2 = df[df['Borough'].str.contains('Toronto',regex=False)]\n",
        "df2.head()"
      ],
      "id": "2892914e-8883-4519-b495-f23f32b6d289",
      "execution_count": 8,
      "outputs": [
        {
          "output_type": "execute_result",
          "data": {
            "text/html": [
              "<div>\n",
              "<style scoped>\n",
              "    .dataframe tbody tr th:only-of-type {\n",
              "        vertical-align: middle;\n",
              "    }\n",
              "\n",
              "    .dataframe tbody tr th {\n",
              "        vertical-align: top;\n",
              "    }\n",
              "\n",
              "    .dataframe thead th {\n",
              "        text-align: right;\n",
              "    }\n",
              "</style>\n",
              "<table border=\"1\" class=\"dataframe\">\n",
              "  <thead>\n",
              "    <tr style=\"text-align: right;\">\n",
              "      <th></th>\n",
              "      <th>PostCode</th>\n",
              "      <th>Borough</th>\n",
              "      <th>Neighborhood</th>\n",
              "      <th>Latitude</th>\n",
              "      <th>Longitude</th>\n",
              "    </tr>\n",
              "  </thead>\n",
              "  <tbody>\n",
              "    <tr>\n",
              "      <th>2</th>\n",
              "      <td>M5A</td>\n",
              "      <td>Downtown Toronto</td>\n",
              "      <td>Regent Park, Harbourfront</td>\n",
              "      <td>43.654260</td>\n",
              "      <td>-79.360636</td>\n",
              "    </tr>\n",
              "    <tr>\n",
              "      <th>9</th>\n",
              "      <td>M5B</td>\n",
              "      <td>Downtown Toronto</td>\n",
              "      <td>Garden District, Ryerson</td>\n",
              "      <td>43.657162</td>\n",
              "      <td>-79.378937</td>\n",
              "    </tr>\n",
              "    <tr>\n",
              "      <th>15</th>\n",
              "      <td>M5C</td>\n",
              "      <td>Downtown Toronto</td>\n",
              "      <td>St. James Town</td>\n",
              "      <td>43.651494</td>\n",
              "      <td>-79.375418</td>\n",
              "    </tr>\n",
              "    <tr>\n",
              "      <th>19</th>\n",
              "      <td>M4E</td>\n",
              "      <td>East Toronto</td>\n",
              "      <td>The Beaches</td>\n",
              "      <td>43.676357</td>\n",
              "      <td>-79.293031</td>\n",
              "    </tr>\n",
              "    <tr>\n",
              "      <th>20</th>\n",
              "      <td>M5E</td>\n",
              "      <td>Downtown Toronto</td>\n",
              "      <td>Berczy Park</td>\n",
              "      <td>43.644771</td>\n",
              "      <td>-79.373306</td>\n",
              "    </tr>\n",
              "  </tbody>\n",
              "</table>\n",
              "</div>"
            ],
            "text/plain": [
              "   PostCode           Borough               Neighborhood   Latitude  Longitude\n",
              "2       M5A  Downtown Toronto  Regent Park, Harbourfront  43.654260 -79.360636\n",
              "9       M5B  Downtown Toronto   Garden District, Ryerson  43.657162 -79.378937\n",
              "15      M5C  Downtown Toronto             St. James Town  43.651494 -79.375418\n",
              "19      M4E      East Toronto                The Beaches  43.676357 -79.293031\n",
              "20      M5E  Downtown Toronto                Berczy Park  43.644771 -79.373306"
            ]
          },
          "metadata": {
            "tags": []
          },
          "execution_count": 8
        }
      ]
    },
    {
      "cell_type": "code",
      "metadata": {
        "colab": {
          "base_uri": "https://localhost:8080/"
        },
        "id": "43ef4e9c-978c-48ae-bb45-759de4e889c6",
        "outputId": "f3ddab65-1305-4ab5-f6ee-edf4e59b7598"
      },
      "source": [
        "from sklearn.cluster import KMeans\n",
        "\n",
        "k = 5\n",
        "df3 = df2[['Latitude','Longitude']]\n",
        "KMmodel = KMeans(n_clusters = k).fit(df3)\n",
        "KMmodel.labels_"
      ],
      "id": "43ef4e9c-978c-48ae-bb45-759de4e889c6",
      "execution_count": 9,
      "outputs": [
        {
          "output_type": "execute_result",
          "data": {
            "text/plain": [
              "array([1, 1, 1, 2, 1, 1, 4, 1, 3, 2, 1, 4, 2, 1, 4, 2, 1, 2, 0, 0, 0, 0,\n",
              "       3, 0, 4, 3, 0, 4, 3, 0, 4, 0, 1, 1, 1, 1, 1, 1, 2], dtype=int32)"
            ]
          },
          "metadata": {
            "tags": []
          },
          "execution_count": 9
        }
      ]
    },
    {
      "cell_type": "code",
      "metadata": {
        "colab": {
          "base_uri": "https://localhost:8080/",
          "height": 204
        },
        "id": "770f7679-26e7-4bb2-932a-6678836ee0fd",
        "outputId": "98020792-e39f-4ed2-e67a-e8f45957150e"
      },
      "source": [
        "df2.insert(0,'ClusterLabels',KMmodel.labels_)\n",
        "df2.head()"
      ],
      "id": "770f7679-26e7-4bb2-932a-6678836ee0fd",
      "execution_count": 10,
      "outputs": [
        {
          "output_type": "execute_result",
          "data": {
            "text/html": [
              "<div>\n",
              "<style scoped>\n",
              "    .dataframe tbody tr th:only-of-type {\n",
              "        vertical-align: middle;\n",
              "    }\n",
              "\n",
              "    .dataframe tbody tr th {\n",
              "        vertical-align: top;\n",
              "    }\n",
              "\n",
              "    .dataframe thead th {\n",
              "        text-align: right;\n",
              "    }\n",
              "</style>\n",
              "<table border=\"1\" class=\"dataframe\">\n",
              "  <thead>\n",
              "    <tr style=\"text-align: right;\">\n",
              "      <th></th>\n",
              "      <th>ClusterLabels</th>\n",
              "      <th>PostCode</th>\n",
              "      <th>Borough</th>\n",
              "      <th>Neighborhood</th>\n",
              "      <th>Latitude</th>\n",
              "      <th>Longitude</th>\n",
              "    </tr>\n",
              "  </thead>\n",
              "  <tbody>\n",
              "    <tr>\n",
              "      <th>2</th>\n",
              "      <td>1</td>\n",
              "      <td>M5A</td>\n",
              "      <td>Downtown Toronto</td>\n",
              "      <td>Regent Park, Harbourfront</td>\n",
              "      <td>43.654260</td>\n",
              "      <td>-79.360636</td>\n",
              "    </tr>\n",
              "    <tr>\n",
              "      <th>9</th>\n",
              "      <td>1</td>\n",
              "      <td>M5B</td>\n",
              "      <td>Downtown Toronto</td>\n",
              "      <td>Garden District, Ryerson</td>\n",
              "      <td>43.657162</td>\n",
              "      <td>-79.378937</td>\n",
              "    </tr>\n",
              "    <tr>\n",
              "      <th>15</th>\n",
              "      <td>1</td>\n",
              "      <td>M5C</td>\n",
              "      <td>Downtown Toronto</td>\n",
              "      <td>St. James Town</td>\n",
              "      <td>43.651494</td>\n",
              "      <td>-79.375418</td>\n",
              "    </tr>\n",
              "    <tr>\n",
              "      <th>19</th>\n",
              "      <td>2</td>\n",
              "      <td>M4E</td>\n",
              "      <td>East Toronto</td>\n",
              "      <td>The Beaches</td>\n",
              "      <td>43.676357</td>\n",
              "      <td>-79.293031</td>\n",
              "    </tr>\n",
              "    <tr>\n",
              "      <th>20</th>\n",
              "      <td>1</td>\n",
              "      <td>M5E</td>\n",
              "      <td>Downtown Toronto</td>\n",
              "      <td>Berczy Park</td>\n",
              "      <td>43.644771</td>\n",
              "      <td>-79.373306</td>\n",
              "    </tr>\n",
              "  </tbody>\n",
              "</table>\n",
              "</div>"
            ],
            "text/plain": [
              "    ClusterLabels PostCode  ...   Latitude  Longitude\n",
              "2               1      M5A  ...  43.654260 -79.360636\n",
              "9               1      M5B  ...  43.657162 -79.378937\n",
              "15              1      M5C  ...  43.651494 -79.375418\n",
              "19              2      M4E  ...  43.676357 -79.293031\n",
              "20              1      M5E  ...  43.644771 -79.373306\n",
              "\n",
              "[5 rows x 6 columns]"
            ]
          },
          "metadata": {
            "tags": []
          },
          "execution_count": 10
        }
      ]
    },
    {
      "cell_type": "code",
      "metadata": {
        "colab": {
          "base_uri": "https://localhost:8080/",
          "height": 1000
        },
        "id": "4b521e28-ac6a-4943-a614-5bc24335dbee",
        "outputId": "86a8edcd-55be-4d71-abce-28104dfd1054"
      },
      "source": [
        "import folium\n",
        "import numpy as np\n",
        "import matplotlib.cm as cm\n",
        "import matplotlib.colors as colors\n",
        "\n",
        "map_clusters = folium.Map(location=[43.651070,-79.347015],zoom_start=12)\n",
        "\n",
        "x = np.arange(k)\n",
        "ys = [i + x + (i*x)**2 for i in range(k)]\n",
        "colors_array = cm.rainbow(np.linspace(0, 1, len(ys)))\n",
        "rainbow = [colors.rgb2hex(i) for i in colors_array]\n",
        "\n",
        "markers_colors = []\n",
        "for lat, lon, poi, cluster in zip(df2['Latitude'], df2['Longitude'], df2['Neighborhood'], df2['ClusterLabels']):\n",
        "    label = folium.Popup(str(poi) + ' Cluster ' + str(cluster), parse_html=True)\n",
        "    folium.CircleMarker(\n",
        "        [lat, lon],\n",
        "        radius=5,\n",
        "        popup=label,\n",
        "        color=rainbow[cluster-1],\n",
        "        fill=True,\n",
        "        fill_color=rainbow[cluster-1],\n",
        "        fill_opacity=0.7).add_to(map_clusters)\n",
        "       \n",
        "map_clusters"
      ],
      "id": "4b521e28-ac6a-4943-a614-5bc24335dbee",
      "execution_count": 11,
      "outputs": [
        {
          "output_type": "execute_result",
          "data": {
            "text/html": [
              "<div style=\"width:100%;\"><div style=\"position:relative;width:100%;height:0;padding-bottom:60%;\"><iframe src=\"data:text/html;charset=utf-8;base64,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\" style=\"position:absolute;width:100%;height:100%;left:0;top:0;border:none !important;\" allowfullscreen webkitallowfullscreen mozallowfullscreen></iframe></div></div>"
            ],
            "text/plain": [
              "<folium.folium.Map at 0x7f96d07cfc50>"
            ]
          },
          "metadata": {
            "tags": []
          },
          "execution_count": 11
        }
      ]
    },
    {
      "cell_type": "code",
      "metadata": {
        "id": "42280ec0-8740-4fb6-866a-8c74ca666fd6"
      },
      "source": [
        ""
      ],
      "id": "42280ec0-8740-4fb6-866a-8c74ca666fd6",
      "execution_count": 11,
      "outputs": []
    }
  ]
}