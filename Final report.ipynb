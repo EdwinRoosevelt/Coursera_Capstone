{
 "cells": [
  {
   "cell_type": "markdown",
   "id": "9c5d3e81-a6f2-4053-8b99-41f00f2cbef1",
   "metadata": {},
   "source": [
    "# **CAPSTONE PROJECT | FINDING BEST AREAS IN CHENNAI**"
   ]
  },
  {
   "cell_type": "markdown",
   "id": "c2b9fcfa-0c1f-4e98-8852-08e13a9b8053",
   "metadata": {},
   "source": [
    "### INTRODUCTION/BUSINESS PROBLEM\n",
    "\n",
    "<p>The aim of the Project is to help people with finding their right Areas. It will help people make smart and efficient decision on selecting great neighborhood.</p>\n",
    "\n",
    "<p> Chennai is the capital of the Indian state of Tamil Nadu. It is one of the largest cultural, economic and educational centers of south India. It is among the most-visited Indian cities by foreign tourists. The availability of jobs here attracts a lot of migrating people. With such a vast area and plethora of neighbor, finding the perfect place to live can become a tedious job.</p>\n",
    " \n",
    "<p> This project aims to find best areas in Chennai and make the job easy for those who are new in town.It will help people make smart and efficient decision on selecting their prefect neighborhood. For ease of accessing to Cafe, School, Hospital, medical shops, grocery shops, mall, parks, theater and such.</p>"
   ]
  },
  {
   "cell_type": "markdown",
   "id": "09d2f893-86ca-48e1-98c6-da3c77184611",
   "metadata": {},
   "source": [
    "### DATA\n",
    "\n",
    "#### 1. Data Sources\n",
    "\n",
    "List of Areas in Chennai is obtained from *Wikipedia*.\n",
    "https://en.wikipedia.org/wiki/List_of_neighbourhoods_of_Chennai\n",
    "\n",
    "The location data available on the Wikipedia page was inconsistent.\n",
    "Therefore, coordinates (latitude and longitude) had to be obtained using *geoPy api*.\n",
    "\n",
    "Each Area area was explored using *Foursquare api*.\n",
    "\n",
    "#### 2. Data Cleansing\n",
    "\n",
    "The area names obtained from the Wikipedia page had some spelling mistakes. The geoPy was unable to obtain the location data for such areas. Some names had to be manually renamed and for some, the location data (coordinates) had to be manually fed.\n",
    "Some of the areas where very close to each other. In such places, only one area was left to remain.\n"
   ]
  },
  {
   "cell_type": "markdown",
   "id": "a021ee70-c1a7-4842-88a8-adefe89aba73",
   "metadata": {},
   "source": [
    "### METHODOLOGY\n",
    "<p>\n",
    "Coordinates of 131 areas were obtained using geoPy api.\n",
    "    \n",
    "<p>\n",
    "Using the Foursquare api, each area was explored for specific venues including hospital, school, grocer stores, supermarket, theater, parks and so on.\n",
    "A total of 1953 venues where obtained. All the venues where grouped by the area.\n",
    "\n",
    "<p>\n",
    "Due to the api quota limit, the venue data from the foursquare had to obtained in 2 batches. Each saved and later imported into the notebook.\n",
    "    \n",
    "<p>\n",
    "The DataFrame had 150+ columns (venues_category). Some of the columns where combined. For example, all the different types of restaurants where combined into one column called 'Restaurants'. The same was done to the different levels of school (Nursery, Elementary, High School). Finally, unimportant columns where dropped. The resulting DataFrame has 20 columns. Each column represents the count of particular venue in each area.\n"
   ]
  },
  {
   "cell_type": "markdown",
   "id": "9feeb8f5-d5f0-4a6e-a08c-95b894c16c2b",
   "metadata": {},
   "source": [
    "<img src=\"chennai_area.png\">"
   ]
  },
  {
   "cell_type": "markdown",
   "id": "051be437-a350-4869-9902-b91dd9ec4efa",
   "metadata": {},
   "source": [
    "<p>\n",
    "The venue_data and the location_data where merged into a single table. The 'Area' column was dropped. The resulting table was used for modeling. \n",
    "    \n",
    "<p>\n",
    "The model was instantiated in such a way to cluster the areas into five categories."
   ]
  },
  {
   "cell_type": "markdown",
   "id": "27270254-d8bc-4710-83d2-b647afe493cd",
   "metadata": {},
   "source": [
    "### RESULT\n",
    "\n",
    "The k-means clustering model categorized all the 131 areas into five categories.\n",
    "\n",
    "<img src=\"clustered_areas.png\"/>\n"
   ]
  },
  {
   "cell_type": "markdown",
   "id": "b04ce478-1cc3-4e0f-bc7d-1e844e84b655",
   "metadata": {},
   "source": [
    "The distinguishable traits of each cluster is as follows:\n",
    "\n",
    "#### Cluster 1\n",
    "- Areas: Anna Nagar, T. Nagar, Chetpet..\n",
    "- Common Venues: Restaurant, Hospital, School\n",
    "- These areas form the heart of chennai. The Cost of living is high.\n",
    "\n",
    "#### Cluster 2\n",
    "- All the Venue categories are present in this cluster.\n",
    "- It is spread on the outskirts of the city.\n",
    "\n",
    "#### Cluster 3\n",
    "- Areas in this cluster scatter over the outskirts as well as the center.\n",
    "- Thereby acting like a transition zone between cluster 2 and the rest.\n",
    "\n",
    "#### Cluster 4\n",
    "- These areas are diversely scattered across the city.\n",
    "- Unable to infer any correlation.\n",
    "\n",
    "#### Cluster 5\n",
    "- Areas in this cluster are dominated by Restaurants (commercial zone) and are present in the heart of the city."
   ]
  },
  {
   "cell_type": "markdown",
   "id": "e015f84d-01f6-4987-b1f9-b47c2ea5fefa",
   "metadata": {},
   "source": [
    "### CONCLUSION"
   ]
  },
  {
   "cell_type": "markdown",
   "id": "18658a1d-d41c-4092-a6e3-d46efec99a79",
   "metadata": {},
   "source": [
    "Cluster 2 and cluster 3 areas are widespread. Almost all the amenities are available in the areas of these clusters. As most of the industries are location in and around these location, the travel distance is greatly reduced. All these factor makes these areas as most favorable for anyone coming to Chennai to start a new life."
   ]
  }
 ],
 "metadata": {
  "kernelspec": {
   "display_name": "Python",
   "language": "python",
   "name": "conda-env-python-py"
  },
  "language_info": {
   "codemirror_mode": {
    "name": "ipython",
    "version": 3
   },
   "file_extension": ".py",
   "mimetype": "text/x-python",
   "name": "python",
   "nbconvert_exporter": "python",
   "pygments_lexer": "ipython3",
   "version": "3.6.13"
  }
 },
 "nbformat": 4,
 "nbformat_minor": 5
}
